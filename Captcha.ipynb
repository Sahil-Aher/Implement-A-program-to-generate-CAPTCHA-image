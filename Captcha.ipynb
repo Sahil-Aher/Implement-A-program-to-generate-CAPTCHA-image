{
 "cells": [
  {
   "cell_type": "code",
   "execution_count": 1,
   "id": "9be4c12b-e48e-498d-8a37-27a3e3f168ff",
   "metadata": {},
   "outputs": [
    {
     "name": "stdout",
     "output_type": "stream",
     "text": [
      "Defaulting to user installation because normal site-packages is not writeable\n",
      "Collecting captcha\n",
      "  Downloading captcha-0.6.0-py3-none-any.whl.metadata (2.1 kB)\n",
      "Requirement already satisfied: Pillow in c:\\programdata\\anaconda3\\lib\\site-packages (from captcha) (10.2.0)\n",
      "Downloading captcha-0.6.0-py3-none-any.whl (102 kB)\n",
      "   ---------------------------------------- 0.0/102.2 kB ? eta -:--:--\n",
      "   ----------- --------------------------- 30.7/102.2 kB 660.6 kB/s eta 0:00:01\n",
      "   ---------------------------------------- 102.2/102.2 kB 1.5 MB/s eta 0:00:00\n",
      "Installing collected packages: captcha\n",
      "Successfully installed captcha-0.6.0\n",
      "Note: you may need to restart the kernel to use updated packages.\n"
     ]
    }
   ],
   "source": [
    "pip install captcha"
   ]
  },
  {
   "cell_type": "code",
   "execution_count": 2,
   "id": "a45199f7-a0fd-4837-98b3-dee62325ae60",
   "metadata": {},
   "outputs": [],
   "source": [
    "from captcha.image import ImageCaptcha"
   ]
  },
  {
   "cell_type": "code",
   "execution_count": 3,
   "id": "351a04dc-8806-4464-b5f4-98da3f907dd7",
   "metadata": {},
   "outputs": [],
   "source": [
    "image = ImageCaptcha()"
   ]
  },
  {
   "cell_type": "code",
   "execution_count": 4,
   "id": "695ebf88-2e6f-47cc-8d15-a76c956ebc6e",
   "metadata": {},
   "outputs": [],
   "source": [
    "data = image.generate('3635600')"
   ]
  },
  {
   "cell_type": "code",
   "execution_count": 5,
   "id": "0e36b70e-1835-4fe6-b23d-e9a7b7d367f5",
   "metadata": {},
   "outputs": [],
   "source": [
    "image.write('3635600','sahil.png')"
   ]
  },
  {
   "cell_type": "code",
   "execution_count": null,
   "id": "e4691719-e0a3-4645-9a9d-ddf63428f0de",
   "metadata": {},
   "outputs": [],
   "source": []
  }
 ],
 "metadata": {
  "kernelspec": {
   "display_name": "Python 3 (ipykernel)",
   "language": "python",
   "name": "python3"
  },
  "language_info": {
   "codemirror_mode": {
    "name": "ipython",
    "version": 3
   },
   "file_extension": ".py",
   "mimetype": "text/x-python",
   "name": "python",
   "nbconvert_exporter": "python",
   "pygments_lexer": "ipython3",
   "version": "3.11.7"
  }
 },
 "nbformat": 4,
 "nbformat_minor": 5
}
